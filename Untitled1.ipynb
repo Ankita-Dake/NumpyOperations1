{
 "cells": [
  {
   "cell_type": "code",
   "execution_count": 1,
   "id": "797d16a9",
   "metadata": {},
   "outputs": [
    {
     "name": "stdout",
     "output_type": "stream",
     "text": [
      "[1 2 3 4 5 6]\n"
     ]
    }
   ],
   "source": [
    "import numpy as np\n",
    "a = np.array([1,2,3,4,5,6])\n",
    "print(a)"
   ]
  },
  {
   "cell_type": "code",
   "execution_count": 2,
   "id": "49f855ee",
   "metadata": {},
   "outputs": [
    {
     "name": "stdout",
     "output_type": "stream",
     "text": [
      "maximum element 6\n"
     ]
    }
   ],
   "source": [
    "print('maximum element',a.max())"
   ]
  },
  {
   "cell_type": "code",
   "execution_count": 3,
   "id": "992d0861",
   "metadata": {},
   "outputs": [
    {
     "name": "stdout",
     "output_type": "stream",
     "text": [
      "minimum element 1\n"
     ]
    }
   ],
   "source": [
    "print('minimum element',a.min())"
   ]
  },
  {
   "cell_type": "code",
   "execution_count": 4,
   "id": "b302a796",
   "metadata": {},
   "outputs": [
    {
     "name": "stdout",
     "output_type": "stream",
     "text": [
      "sum of element 21\n"
     ]
    }
   ],
   "source": [
    "print('sum of element',a.sum())"
   ]
  },
  {
   "cell_type": "code",
   "execution_count": 7,
   "id": "5af62551",
   "metadata": {},
   "outputs": [
    {
     "name": "stdout",
     "output_type": "stream",
     "text": [
      "square root [1.         1.41421356 1.73205081 2.        ]\n",
      "standard deviation 1.118033988749895\n"
     ]
    }
   ],
   "source": [
    "i = np.array([1,2,3,4])\n",
    "print(\"square root\",np.sqrt(i))\n",
    "print(\"standard deviation\",np.std(i))"
   ]
  },
  {
   "cell_type": "code",
   "execution_count": 8,
   "id": "dd2efbad",
   "metadata": {},
   "outputs": [
    {
     "name": "stdout",
     "output_type": "stream",
     "text": [
      "sum of array a1,b1 [[ 8 10 12]\n",
      " [ 8 10 12]]\n",
      "sum of array a1,b1 [[-6 -6 -6]\n",
      " [ 0  0  0]]\n",
      "sum of array a1,b1 [[0.14285714 0.25       0.33333333]\n",
      " [1.         1.         1.        ]]\n"
     ]
    }
   ],
   "source": [
    "a1 = np.array([[1,2,3],[4,5,6]])\n",
    "b1 = np.array([[7,8,9],[4,5,6]])\n",
    "print(\"sum of array a1,b1\",a1+b1)\n",
    "print(\"sum of array a1,b1\",a1-b1)\n",
    "print(\"sum of array a1,b1\",a1/b1)"
   ]
  },
  {
   "cell_type": "code",
   "execution_count": 9,
   "id": "a33c20b9",
   "metadata": {},
   "outputs": [
    {
     "name": "stdout",
     "output_type": "stream",
     "text": [
      "Arrays vertically concatenated\n",
      " [[ 1  2 30]\n",
      " [10 15  4]\n",
      " [ 1  2  3]\n",
      " [12 19 29]]\n",
      "Arrays horizontally concatenated\n",
      " [[ 1  2 30  1  2  3]\n",
      " [10 15  4 12 19 29]]\n"
     ]
    }
   ],
   "source": [
    "a2 = np.array([[1,2,30],[10,15,4]])  \n",
    "b2 = np.array([[1,2,3],[12, 19, 29]])  \n",
    "print(\"Arrays vertically concatenated\\n\",np.vstack((a2,b2)));  \n",
    "print(\"Arrays horizontally concatenated\\n\",np.hstack((a2,b2))) "
   ]
  },
  {
   "cell_type": "code",
   "execution_count": 10,
   "id": "5d4d37ef",
   "metadata": {},
   "outputs": [
    {
     "name": "stdout",
     "output_type": "stream",
     "text": [
      "int32\n"
     ]
    }
   ],
   "source": [
    " d= np.dtype(np.int32)  \n",
    "print(d)  "
   ]
  },
  {
   "cell_type": "code",
   "execution_count": 11,
   "id": "745b7926",
   "metadata": {},
   "outputs": [
    {
     "name": "stdout",
     "output_type": "stream",
     "text": [
      "[[575693056     32764]\n",
      " [575693152     32764]\n",
      " [  7209065   4784229]]\n"
     ]
    }
   ],
   "source": [
    "arr = np.empty((3,2), dtype = int)  \n",
    "print(arr)  "
   ]
  },
  {
   "cell_type": "code",
   "execution_count": 13,
   "id": "d190b3b2",
   "metadata": {},
   "outputs": [
    {
     "name": "stdout",
     "output_type": "stream",
     "text": [
      "[10 20 30]\n",
      "int32\n",
      "[10.1 20.2 30.3]\n"
     ]
    }
   ],
   "source": [
    "p = np.array([10.10, 20.20, 30.30])\n",
    "i1 = p.astype('i')\n",
    "print(i1)\n",
    "print(i1.dtype)\n",
    "print(p)"
   ]
  },
  {
   "cell_type": "code",
   "execution_count": 15,
   "id": "f2c8ad47",
   "metadata": {},
   "outputs": [
    {
     "name": "stdout",
     "output_type": "stream",
     "text": [
      "[ True  True  True]\n",
      "bool\n",
      "[10.1 20.2 30.3]\n"
     ]
    }
   ],
   "source": [
    "j = np.array([10.10, 20.20, 30.30])\n",
    "i2 = j.astype('bool')\n",
    "print(i2)\n",
    "print(i1.dtype)\n",
    "print(j)"
   ]
  },
  {
   "cell_type": "code",
   "execution_count": 23,
   "id": "438d3ef6",
   "metadata": {},
   "outputs": [
    {
     "name": "stdout",
     "output_type": "stream",
     "text": [
      "[[1 3]\n",
      " [2 4]]\n"
     ]
    }
   ],
   "source": [
    "import numpy as np  \n",
    "s = np.empty((2,2), dtype = int,order='F')  \n",
    "print(s)  "
   ]
  },
  {
   "cell_type": "code",
   "execution_count": 37,
   "id": "fa476c29",
   "metadata": {},
   "outputs": [
    {
     "name": "stdout",
     "output_type": "stream",
     "text": [
      "[[0 0 0 0 0 0]\n",
      " [0 0 0 0 0 0]\n",
      " [0 0 0 0 0 0]]\n"
     ]
    }
   ],
   "source": [
    "import numpy as np  \n",
    "s1 = np.zeros((3,6), dtype = int,order='C')  \n",
    "print(s1)  "
   ]
  },
  {
   "cell_type": "code",
   "execution_count": 38,
   "id": "5a7a0c90",
   "metadata": {},
   "outputs": [
    {
     "name": "stdout",
     "output_type": "stream",
     "text": [
      "[[1 1 1 1 1 1]\n",
      " [1 1 1 1 1 1]\n",
      " [1 1 1 1 1 1]]\n"
     ]
    }
   ],
   "source": [
    "import numpy as np  \n",
    "s1 = np.ones((3,6), dtype = int,order='C')  \n",
    "print(s1)"
   ]
  },
  {
   "cell_type": "code",
   "execution_count": 40,
   "id": "5f14eac4",
   "metadata": {},
   "outputs": [
    {
     "name": "stdout",
     "output_type": "stream",
     "text": [
      "[0. 2. 4. 6. 8.]\n"
     ]
    }
   ],
   "source": [
    "#Numpy.arrange\n",
    "arr = np.arange(0,10,2,float)  \n",
    "print(arr)  "
   ]
  },
  {
   "cell_type": "code",
   "execution_count": 42,
   "id": "899b7771",
   "metadata": {},
   "outputs": [
    {
     "name": "stdout",
     "output_type": "stream",
     "text": [
      "[0 3 6 9]\n"
     ]
    }
   ],
   "source": [
    "arr = np.arange(0,10,3,int)  \n",
    "print(arr)  "
   ]
  },
  {
   "cell_type": "code",
   "execution_count": 43,
   "id": "844ce0fc",
   "metadata": {},
   "outputs": [
    {
     "name": "stdout",
     "output_type": "stream",
     "text": [
      "[2. 3. 4. 5. 6. 7. 8. 9.]\n"
     ]
    }
   ],
   "source": [
    "arr = np.arange(2,10,1,float)  \n",
    "print(arr)  "
   ]
  },
  {
   "cell_type": "code",
   "execution_count": 2,
   "id": "64a29284",
   "metadata": {},
   "outputs": [
    {
     "name": "stdout",
     "output_type": "stream",
     "text": [
      "[42  2  3  4  5]\n",
      "[1 2 3 4 5]\n"
     ]
    }
   ],
   "source": [
    "# copy and view\n",
    "import numpy as np\n",
    "arr1 = np.array([1, 2, 3, 4, 5])\n",
    "x = arr1.copy()\n",
    "arr1[0] = 42\n",
    "\n",
    "print(arr1)\n",
    "print(x)"
   ]
  },
  {
   "cell_type": "code",
   "execution_count": 3,
   "id": "aaf99c5f",
   "metadata": {},
   "outputs": [
    {
     "name": "stdout",
     "output_type": "stream",
     "text": [
      "[42  2  3  4  5]\n",
      "[42  2  3  4  5]\n"
     ]
    }
   ],
   "source": [
    "arr = np.array([1, 2, 3, 4, 5])\n",
    "x = arr.view()\n",
    "arr[0] = 42\n",
    "\n",
    "print(arr)\n",
    "print(x)"
   ]
  },
  {
   "cell_type": "code",
   "execution_count": 4,
   "id": "3e37067a",
   "metadata": {},
   "outputs": [
    {
     "name": "stdout",
     "output_type": "stream",
     "text": [
      "[1 2 3 4 5 6]\n"
     ]
    }
   ],
   "source": [
    "#join array\n",
    "import numpy as np\n",
    "arr1 = np.array([1, 2, 3])\n",
    "\n",
    "arr2 = np.array([4, 5, 6])\n",
    "\n",
    "arr3 = np.concatenate((arr1, arr2))\n",
    "\n",
    "print(arr3)"
   ]
  },
  {
   "cell_type": "code",
   "execution_count": 5,
   "id": "1495b061",
   "metadata": {},
   "outputs": [
    {
     "name": "stdout",
     "output_type": "stream",
     "text": [
      "[[1 4]\n",
      " [2 5]\n",
      " [3 6]]\n"
     ]
    }
   ],
   "source": [
    "# joining array using stack\n",
    "arr4 = np.stack((arr1, arr2), axis=1)\n",
    "\n",
    "print(arr4)"
   ]
  },
  {
   "cell_type": "code",
   "execution_count": 8,
   "id": "570dcdae",
   "metadata": {},
   "outputs": [
    {
     "name": "stdout",
     "output_type": "stream",
     "text": [
      "[[1 2 3]\n",
      " [4 5 6]]\n"
     ]
    }
   ],
   "source": [
    "arr5 = np.vstack((arr1, arr2))\n",
    "print(arr5)"
   ]
  },
  {
   "cell_type": "code",
   "execution_count": 12,
   "id": "721e477a",
   "metadata": {},
   "outputs": [
    {
     "name": "stdout",
     "output_type": "stream",
     "text": [
      "[1 2 3 4 5 6]\n"
     ]
    }
   ],
   "source": [
    "arr6= np.hstack((arr1, arr2))\n",
    "print(arr6)"
   ]
  },
  {
   "cell_type": "code",
   "execution_count": 13,
   "id": "246d42ec",
   "metadata": {},
   "outputs": [
    {
     "name": "stdout",
     "output_type": "stream",
     "text": [
      "[[1 2 3]\n",
      " [4 5 6]]\n"
     ]
    }
   ],
   "source": [
    "arr7 = np.stack((arr1, arr2))\n",
    "print(arr7)"
   ]
  },
  {
   "cell_type": "code",
   "execution_count": null,
   "id": "92904e7e",
   "metadata": {},
   "outputs": [],
   "source": []
  }
 ],
 "metadata": {
  "kernelspec": {
   "display_name": "Python 3",
   "language": "python",
   "name": "python3"
  },
  "language_info": {
   "codemirror_mode": {
    "name": "ipython",
    "version": 3
   },
   "file_extension": ".py",
   "mimetype": "text/x-python",
   "name": "python",
   "nbconvert_exporter": "python",
   "pygments_lexer": "ipython3",
   "version": "3.8.8"
  }
 },
 "nbformat": 4,
 "nbformat_minor": 5
}
